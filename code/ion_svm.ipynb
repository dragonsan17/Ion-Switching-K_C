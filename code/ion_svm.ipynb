{
 "cells": [
  {
   "cell_type": "code",
   "execution_count": 2,
   "metadata": {
    "colab": {},
    "colab_type": "code",
    "id": "axhEWXmWudOp"
   },
   "outputs": [],
   "source": [
    "import tensorflow as tf\n",
    "import numpy as np\n",
    "import matplotlib.pyplot as plt\n",
    "from sklearn.metrics import f1_score"
   ]
  },
  {
   "cell_type": "code",
   "execution_count": 3,
   "metadata": {},
   "outputs": [],
   "source": [
    "lengt = 7"
   ]
  },
  {
   "cell_type": "code",
   "execution_count": 4,
   "metadata": {
    "colab": {},
    "colab_type": "code",
    "id": "WI_aCmWvujSg"
   },
   "outputs": [],
   "source": [
    "data_path = 'C:/Santosh/AI/K-Comp/Ion/Data/wdwk/'\n",
    "train_signal_file = data_path + 'train_signal.npy'\n",
    "train_channels_file = data_path + 'train_channels.npy'\n",
    "test_signal_file = data_path + 'test_signal.npy'\n",
    "\n",
    "train_signal = np.load(train_signal_file)\n",
    "train_channels = np.load(train_channels_file)\n",
    "test_signal = np.load(test_signal_file)\n",
    "\n",
    "test_model_signal = np.zeros((5,1000000))\n",
    "test_model_channel = np.zeros((5,1000000))\n",
    "test_model_signal[0][:500000] = train_signal[0].flatten()\n",
    "test_model_signal[0][500000:] = train_signal[1].flatten()\n",
    "test_model_signal[1][:500000] = train_signal[2].flatten()\n",
    "test_model_signal[1][500000:] = train_signal[6].flatten()\n",
    "test_model_signal[2][:500000] = train_signal[3].flatten()\n",
    "test_model_signal[2][500000:] = train_signal[7].flatten()\n",
    "test_model_signal[3][:500000] = train_signal[4].flatten()\n",
    "test_model_signal[3][500000:] = train_signal[9].flatten()\n",
    "test_model_signal[4][:500000] = train_signal[5].flatten()\n",
    "test_model_signal[4][500000:] = train_signal[8].flatten()\n",
    "\n",
    "\n",
    "test_model_channel[0][:500000] = train_channels[0].flatten()\n",
    "test_model_channel[0][500000:] = train_channels[1].flatten()\n",
    "test_model_channel[1][:500000] = train_channels[2].flatten()\n",
    "test_model_channel[1][500000:] = train_channels[6].flatten()\n",
    "test_model_channel[2][:500000] = train_channels[3].flatten()\n",
    "test_model_channel[2][500000:] = train_channels[7].flatten()\n",
    "test_model_channel[3][:500000] = train_channels[4].flatten()\n",
    "test_model_channel[3][500000:] = train_channels[9].flatten()\n",
    "test_model_channel[4][:500000] = train_channels[5].flatten()\n",
    "test_model_channel[4][500000:] = train_channels[8].flatten()\n",
    "\n"
   ]
  },
  {
   "cell_type": "code",
   "execution_count": null,
   "metadata": {
    "colab": {},
    "colab_type": "code",
    "id": "bI9PtnPhorBc"
   },
   "outputs": [
    {
     "name": "stdout",
     "output_type": "stream",
     "text": [
      "starting  0\n",
      "iteration  0\n",
      "iteration  1\n",
      "iteration  2\n",
      "iteration  3\n",
      "iteration  4\n",
      "iteration  5\n",
      "iteration  6\n",
      "iteration  7\n",
      "iteration  8\n",
      "iteration  9\n",
      "[0.99974483 0.98767258]\n",
      "0.993708704439243\n",
      "appending  0\n",
      "0    done\n",
      "starting  1\n",
      "iteration  0\n",
      "iteration  1\n",
      "iteration  2\n",
      "iteration  3\n",
      "iteration  4\n",
      "iteration  5\n",
      "iteration  6\n",
      "iteration  7\n",
      "iteration  8\n",
      "iteration  9\n",
      "[0.99508513 0.99832366]\n",
      "0.9967043904302098\n",
      "appending  1\n",
      "1    done\n",
      "starting  2\n",
      "iteration  0\n",
      "iteration  1\n",
      "iteration  2\n",
      "iteration  3\n",
      "iteration  4\n",
      "iteration  5\n",
      "iteration  6\n",
      "iteration  7\n",
      "iteration  8\n",
      "iteration  9\n",
      "[0.98168154 0.98328774 0.98655711 0.99119365]\n",
      "0.9856800077570663\n",
      "appending  2\n",
      "2    done\n",
      "starting  3\n",
      "iteration  0\n",
      "iteration  1\n",
      "iteration  2\n",
      "iteration  3\n",
      "iteration  4\n",
      "iteration  5\n",
      "iteration  6\n",
      "iteration  7\n",
      "iteration  8\n",
      "iteration  9\n",
      "[0.57142857 0.77130045 0.83741648 0.85148148 0.87377758 0.88194973\n",
      " 0.88713455 0.89299653 0.89414198 0.88910533]\n",
      "0.8350732676539406\n",
      "appending  3\n",
      "3    done\n",
      "starting  4\n",
      "iteration  0\n",
      "iteration  1\n",
      "iteration  2\n",
      "iteration  3\n",
      "iteration  4\n",
      "iteration  5\n",
      "iteration  6\n"
     ]
    }
   ],
   "source": [
    "from sklearn.svm import SVC\n",
    "models = []\n",
    "\n",
    "specs = [[1.2,1],[0.1,1],[0.5,1],[7,0.01],[10,0.1]]\n",
    "\n",
    "\n",
    "for k in range (5):\n",
    "  if(k==2 or k==4):\n",
    "    lengt = 3\n",
    "  elif(k==3):\n",
    "    lengt = 13\n",
    "  else:\n",
    "    lengt = 7\n",
    "  print(\"starting \", k)\n",
    "  x = test_model_signal[k].flatten()\n",
    "  y = test_model_channel[k].flatten()\n",
    "    \n",
    "  y = np.array(y).astype(int)\n",
    "  \n",
    "  new_x = np.zeros((x.shape[0],lengt))\n",
    "  for i in range(x.shape[0]):\n",
    "        for j in range(-lengt//2,lengt//2 + 1):\n",
    "            new_x[i][j + lengt//2] = x[(i +j + 1000000)%1000000]\n",
    "\n",
    "  x = new_x\n",
    "  model = SVC(kernel = 'rbf', C=specs[k][0],gamma = specs[k][1])\n",
    "  if(k<=-1):\n",
    "    samples = 50000\n",
    "    model.fit(x[0:samples],y[0:samples])\n",
    "  else:\n",
    "    samples= 100000\n",
    "    for i in range(10):\n",
    "      print(\"iteration \", i)\n",
    "      model.fit(x[i*samples:(i+1)*samples],y[i*samples:(i+1)*samples])\n",
    "  \n",
    "  y_pred = model.predict(x[400000:500000])\n",
    "  y_true = y[400000:500000]\n",
    "  print(f1_score(y_true, y_pred, average=None))\n",
    "  print(f1_score(y_true, y_pred, average='macro'))\n",
    "  print(\"appending \", k)\n",
    "  models.append(model)\n",
    "  print(k,\"   done\")"
   ]
  },
  {
   "cell_type": "code",
   "execution_count": 11,
   "metadata": {},
   "outputs": [
    {
     "ename": "IndexError",
     "evalue": "list assignment index out of range",
     "output_type": "error",
     "traceback": [
      "\u001b[1;31m---------------------------------------------------------------------------\u001b[0m",
      "\u001b[1;31mIndexError\u001b[0m                                Traceback (most recent call last)",
      "\u001b[1;32m<ipython-input-11-9aeb5379e9cb>\u001b[0m in \u001b[0;36m<module>\u001b[1;34m\u001b[0m\n\u001b[1;32m----> 1\u001b[1;33m \u001b[0mmodels\u001b[0m\u001b[1;33m[\u001b[0m\u001b[1;36m3\u001b[0m\u001b[1;33m]\u001b[0m\u001b[1;33m=\u001b[0m\u001b[0mmodel\u001b[0m\u001b[1;33m\u001b[0m\u001b[1;33m\u001b[0m\u001b[0m\n\u001b[0m",
      "\u001b[1;31mIndexError\u001b[0m: list assignment index out of range"
     ]
    }
   ],
   "source": [
    "# models[3]=model"
   ]
  },
  {
   "cell_type": "code",
   "execution_count": null,
   "metadata": {},
   "outputs": [],
   "source": [
    "model_ref = [0,0,1,2,3,4,1,2,4,3]\n",
    "y_valid = np.zeros((1000000))\n",
    "y_pred = np.zeros((1000000))\n",
    "for k in range(6):\n",
    "  if(model_ref[k]==2 or model_ref[k]==4):\n",
    "    lengt = 3\n",
    "  elif(model_ref[k]==3):\n",
    "    lengt = 13\n",
    "  else:\n",
    "    lengt = 7\n",
    "  print(\"starting \", k)\n",
    "  x = train_signal[k].flatten()\n",
    "  y = train_channels[k].flatten()\n",
    "\n",
    "  y = np.array(y).astype(int)\n",
    "  new_x = np.zeros((x.shape[0],lengt))\n",
    "  for i in range(x.shape[0]):\n",
    "        for j in range(-lengt//2,lengt//2 + 1):\n",
    "            new_x[i][j + lengt//2] = x[(i +j + 500000)%500000]\n",
    "\n",
    "  x = new_x\n",
    "  model = models[model_ref[k]]\n",
    "  y_pred[k*100000:(k+1)*100000] = model.predict(x[400000:500000])\n",
    "  y_valid[k*100000:(k+1)*100000]=y[400000:500000]\n",
    "\n",
    "print(f1_score(y_valid, y_pred, average=None))\n",
    "print(f1_score(y_valid, y_pred, average='macro'))"
   ]
  },
  {
   "cell_type": "code",
   "execution_count": null,
   "metadata": {
    "colab": {
     "base_uri": "https://localhost:8080/",
     "height": 237
    },
    "colab_type": "code",
    "id": "gTQcQZIUZ3wl",
    "outputId": "bdaf7b37-d1da-4e9c-a0f1-ebec544a3a3d"
   },
   "outputs": [],
   "source": [
    "model_ref = [1,3,5,1,2,4,5,4,1,3,1,1,1,1,1,1,1,1,1,1]\n",
    "model_ref = np.array(model_ref).astype(int) - 1\n",
    "y_pred_all = np.zeros((2000000))\n",
    "for pec in range(20):\n",
    "  if(model_ref[pec]==2 or model_ref[pec]==4):\n",
    "    lengt = 3\n",
    "  else:\n",
    "    lengt = 7\n",
    "  print(pec)\n",
    "  x_test = test_signal.flatten()[pec*100000:(pec+1)*100000]\n",
    "  x = x_test\n",
    "  new_x = np.zeros((x.shape[0],lengt))\n",
    "  for i in range(x.shape[0]):\n",
    "        for j in range(-lengt//2,lengt//2 + 1):\n",
    "            new_x[i][j + lengt//2] = x[(i +j + 100000)%100000]\n",
    "\n",
    "  x = new_x\n",
    "  x_test = x\n",
    "  test_pred = models[model_ref[pec]].predict(x_test)\n",
    "  y_pred_1 = np.array(test_pred).astype(int)\n",
    "  y_pred_all[pec*100000:(pec+1)*100000] = y_pred_1\n",
    "\n",
    "y_pred_all = np.array(y_pred_all).astype(int)"
   ]
  },
  {
   "cell_type": "code",
   "execution_count": null,
   "metadata": {
    "colab": {},
    "colab_type": "code",
    "id": "GPTSMI4glSsr"
   },
   "outputs": [],
   "source": [
    "import pandas as pd\n",
    "sub = pd.read_csv(data_path + 'sample_submission_ion.csv')\n",
    "\n",
    "sub.iloc[:,1] = y_pred_all\n",
    "sub.to_csv(data_path + 'my_submission_svm_5_best_400k_lengt13.csv',index=False,float_format='%.4f')\n",
    "print(\"saved the file\")"
   ]
  },
  {
   "cell_type": "code",
   "execution_count": null,
   "metadata": {},
   "outputs": [],
   "source": []
  }
 ],
 "metadata": {
  "accelerator": "GPU",
  "colab": {
   "collapsed_sections": [],
   "name": "ion.ipynb",
   "provenance": []
  },
  "kernelspec": {
   "display_name": "Python 3",
   "language": "python",
   "name": "python3"
  },
  "language_info": {
   "codemirror_mode": {
    "name": "ipython",
    "version": 3
   },
   "file_extension": ".py",
   "mimetype": "text/x-python",
   "name": "python",
   "nbconvert_exporter": "python",
   "pygments_lexer": "ipython3",
   "version": "3.6.10"
  }
 },
 "nbformat": 4,
 "nbformat_minor": 1
}
