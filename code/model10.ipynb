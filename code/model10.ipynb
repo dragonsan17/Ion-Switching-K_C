{
 "cells": [
  {
   "cell_type": "code",
   "execution_count": 1,
   "metadata": {
    "colab": {},
    "colab_type": "code",
    "id": "NhhHm2KDUt2v"
   },
   "outputs": [],
   "source": [
    "import tensorflow as tf\n",
    "import numpy as np\n",
    "import matplotlib.pyplot as plt\n",
    "from sklearn.metrics import f1_score"
   ]
  },
  {
   "cell_type": "code",
   "execution_count": 2,
   "metadata": {
    "colab": {},
    "colab_type": "code",
    "id": "6bVxpmDaUuW-"
   },
   "outputs": [],
   "source": [
    "batch_size = 1\n",
    "model_num = 4"
   ]
  },
  {
   "cell_type": "code",
   "execution_count": 3,
   "metadata": {
    "colab": {},
    "colab_type": "code",
    "id": "Z1waWjuHUxQR"
   },
   "outputs": [],
   "source": [
    "data_path = 'C:\\Santosh\\AI\\K-Comp\\Ion\\Data/'\n",
    "train_signal_file = data_path + 'train_signal.npy'\n",
    "train_channels_file = data_path + 'train_channels.npy'\n",
    "test_signal_file = data_path + 'test_signal.npy'\n",
    "\n",
    "train_signal = np.load(train_signal_file)\n",
    "train_channels = np.load(train_channels_file)\n",
    "test_signal = np.load(test_signal_file)\n",
    "\n",
    "valid_signal = train_signal[:,400000:]\n",
    "valid_channels = train_channels[:,400000:]\n",
    "train_signal = train_signal[:,:400000]\n",
    "train_channels = train_channels[:,:400000]\n",
    "\n",
    "\n",
    "\n",
    "x = train_signal[model_num].flatten()\n",
    "y = train_channels[model_num].flatten()\n",
    "valid_x = valid_signal[model_num].flatten()\n",
    "valid_y = valid_channels[model_num].flatten()"
   ]
  },
  {
   "cell_type": "code",
   "execution_count": 16,
   "metadata": {
    "colab": {},
    "colab_type": "code",
    "id": "aboAv62hwAN7"
   },
   "outputs": [],
   "source": [
    "#data prep for changing method\n",
    "lengt = 3\n",
    "x_c = np.zeros((400000-lengt + 1,lengt))\n",
    "y_c = np.zeros((400000-lengt + 1))\n",
    "for i in range(400000 - lengt + 1):\n",
    "  for j in range(lengt):\n",
    "    x_c[i][j] = x[i+j]\n",
    "  y_c[i] = y[i + lengt//2]\n",
    "y_c = np.array(y_c).astype(int)\n",
    "\n",
    "valid_x_c = np.zeros((100000-lengt + 1,lengt))\n",
    "valid_y_c = np.zeros((100000-lengt + 1))\n",
    "\n",
    "for i in range(100000 - lengt + 1):\n",
    "  for j in range(lengt):\n",
    "    valid_x_c[i][j] = valid_x[i+j]\n",
    "  valid_y_c[i] = valid_y[i + lengt//2]\n",
    "# x_c = x_c[:10000]\n",
    "# y_c = y_c[:10000]\n",
    "valid_y_c = np.array(valid_y_c).astype(int)\n",
    "y = np.array(y).astype(int)"
   ]
  },
  {
   "cell_type": "code",
   "execution_count": 17,
   "metadata": {
    "colab": {},
    "colab_type": "code",
    "id": "AGmB0HkExCTu"
   },
   "outputs": [
    {
     "data": {
      "text/plain": [
       "SVC(C=7, break_ties=False, cache_size=200, class_weight=None, coef0=0.0,\n",
       "    decision_function_shape='ovr', degree=3, gamma=0.1, kernel='rbf',\n",
       "    max_iter=-1, probability=False, random_state=None, shrinking=True,\n",
       "    tol=0.001, verbose=False)"
      ]
     },
     "execution_count": 17,
     "metadata": {},
     "output_type": "execute_result"
    }
   ],
   "source": [
    "from sklearn.svm import SVC\n",
    "from sklearn.model_selection import GridSearchCV\n",
    "\n",
    "# param_grid = {'C' : [5,6,7,8,9,10],\n",
    "#              'gamma' : [0.1,0.2,0.3,0.4,0.5],\n",
    "#              'kernel' : ['rbf']}\n",
    "\n",
    "# grid = GridSearchCV(SVC(),param_grid,refit = True, verbose = 3)\n",
    "# grid.fit(x_c,y_c)\n",
    "# print(grid.best_params_)\n",
    "# print(grid.best_estimator_)\n",
    "\n",
    "model = SVC(kernel = 'rbf',C=7, gamma = 0.1)\n",
    "model.fit(x_c,y_c)"
   ]
  },
  {
   "cell_type": "code",
   "execution_count": 18,
   "metadata": {
    "colab": {
     "base_uri": "https://localhost:8080/",
     "height": 92
    },
    "colab_type": "code",
    "id": "YSEC0Gq9xLto",
    "outputId": "4dff13c3-fa0b-43fa-cf6e-1a1ceb51fc7a"
   },
   "outputs": [
    {
     "name": "stdout",
     "output_type": "stream",
     "text": [
      "[0.76190476 0.86206897 0.85951662 0.85929741 0.87528683 0.88359458\n",
      " 0.88897676 0.89368777 0.89344672 0.88913837]\n",
      "0.8666918783684707\n",
      "done\n"
     ]
    }
   ],
   "source": [
    "y_pred = model.predict(valid_x_c)\n",
    "y_true = np.array(valid_y_c).astype(int)\n",
    "# print(y_pred[:10])\n",
    "# print(y_true[:10])\n",
    "# print(valid_x[:10])\n",
    "# y_pred_1 = np.zeros(y_true.shape)\n",
    "# for j in range(y_pred.shape[0]):\n",
    "#     maxval = 0\n",
    "#     index = 0\n",
    "#     for i in range(11):\n",
    "#         if(y_pred[j][i] > maxval):\n",
    "#             maxval = y_pred[j][i]\n",
    "#             index = i\n",
    "#     y_pred_1[j] = index%10\n",
    "#print(y_true.shape)\n",
    "y_pred_1 = np.array(y_pred).astype(int)\n",
    "y_true = np.array(y_true).astype(int)\n",
    "print(f1_score(y_true, y_pred_1, average=None))\n",
    "print(f1_score(y_true, y_pred_1, average='macro'))\n",
    "print(\"done\")"
   ]
  },
  {
   "cell_type": "code",
   "execution_count": null,
   "metadata": {},
   "outputs": [],
   "source": []
  },
  {
   "cell_type": "code",
   "execution_count": null,
   "metadata": {},
   "outputs": [],
   "source": []
  }
 ],
 "metadata": {
  "colab": {
   "collapsed_sections": [],
   "name": "model10.ipynb",
   "provenance": []
  },
  "kernelspec": {
   "display_name": "Python 3",
   "language": "python",
   "name": "python3"
  },
  "language_info": {
   "codemirror_mode": {
    "name": "ipython",
    "version": 3
   },
   "file_extension": ".py",
   "mimetype": "text/x-python",
   "name": "python",
   "nbconvert_exporter": "python",
   "pygments_lexer": "ipython3",
   "version": "3.6.10"
  }
 },
 "nbformat": 4,
 "nbformat_minor": 1
}
