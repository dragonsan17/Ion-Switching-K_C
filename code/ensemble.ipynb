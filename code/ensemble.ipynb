{
 "cells": [
  {
   "cell_type": "markdown",
   "execution_count": null,
   "metadata": {},
   "source": [
    "# THIS KERNAL IS BLEND OF So awesome kernels present Right now\n",
    "# Vote if you love blend. \n",
    "\n",
    "## Kernels used comming from these awesome people:\n",
    "### For the TF-IDF submissions they are comming from this kernel:\n",
    "[NB-SVM strong linear baseline](https://www.kaggle.com/hamditarek/nb-svm-strong-linear-baseline)\n",
    "\n",
    "[[TPU-Inference] Super Fast XLMRoberta](https://www.kaggle.com/shonenkov/tpu-inference-super-fast-xlmroberta)\n",
    "\n",
    "[Jigsaw TPU: BERT with Huggingface and Keras](https://www.kaggle.com/miklgr500/jigsaw-tpu-bert-with-huggingface-and-keras)\n",
    "\n",
    "[inference of bert tpu model ml w/ validation](https://www.kaggle.com/abhishek/inference-of-bert-tpu-model-ml-w-validation)"
   ]
  },
  {
   "cell_type": "markdown",
   "execution_count": null,
   "metadata": {},
   "source": [
    "# phase 1 [Ensemble]"
   ]
  },
  {
   "cell_type": "code",
   "execution_count": 1,
   "metadata": {
    "_cell_guid": "b1076dfc-b9ad-4769-8c92-a6c4dae69d19",
    "_uuid": "8f2839f25d086af736a60e9eeb907d3b93b6e0e5"
   },
   "outputs": [],
   "source": [
    "import numpy as np # linear algebra\n",
    "import pandas as pd # data processing, CSV file I/O (e.g. pd.read_csv)\n",
    "import seaborn as sns\n",
    "import matplotlib.pyplot as plt\n",
    "import os\n",
    "#for dirname, _, filenames in os.walk('/kaggle/input'):\n",
    "#    for filename in filenames:\n",
    "#        print(os.path.join(dirname, filename))"
   ]
  },
  {
   "cell_type": "code",
   "execution_count": 2,
   "metadata": {
    "_cell_guid": "79c7e3d0-c299-4dcb-8224-4455121ee9b0",
    "_uuid": "d629ff2d2480ee46fbb7e2d37f6b5fab8052498a"
   },
   "outputs": [],
   "source": [
    "submission1 = pd.read_csv('/kaggle/input/009383/submission (17).csv')\n",
    "submission2 = pd.read_csv('/kaggle/input/tfidf/submission (27).csv')\n",
    "submission3 = pd.read_csv('../input/tpuinference-super-fast-xlmroberta/submission (47).csv')"
   ]
  },
  {
   "cell_type": "markdown",
   "execution_count": null,
   "metadata": {},
   "source": [
    "# Hist Graph of scores"
   ]
  },
  {
   "cell_type": "code",
   "execution_count": 3,
   "metadata": {},
   "outputs": [
    {
     "data": {
      "image/png": "[encoded data removed]",
      "text/plain": [
       "<Figure size 432x288 with 1 Axes>"
      ]
     },
     "metadata": {},
     "output_type": "display_data"
    }
   ],
   "source": [
    "sns.set()\n",
    "plt.hist(submission1['toxic'],bins=100)\n",
    "plt.show()"
   ]
  },
  {
   "cell_type": "code",
   "execution_count": 4,
   "metadata": {},
   "outputs": [
    {
     "data": {
      "image/png": "[encoded data removed]",
      "text/plain": [
       "<Figure size 432x288 with 1 Axes>"
      ]
     },
     "metadata": {},
     "output_type": "display_data"
    }
   ],
   "source": [
    "sns.set()\n",
    "plt.hist(submission2['toxic'],bins=100)\n",
    "plt.show()"
   ]
  },
  {
   "cell_type": "code",
   "execution_count": 5,
   "metadata": {},
   "outputs": [],
   "source": [
    "submission1['toxic'] = submission1['toxic']*0.05 + submission2['toxic']*0.15 + submission3['toxic']*0.8"
   ]
  },
  {
   "cell_type": "code",
   "execution_count": 6,
   "metadata": {},
   "outputs": [],
   "source": [
    "submission1.to_csv('submission.csv', index=False)"
   ]
  },
  {
   "cell_type": "markdown",
   "execution_count": null,
   "metadata": {},
   "source": [
    "# phase 2 [Stacking]"
   ]
  },
  {
   "cell_type": "code",
   "execution_count": 7,
   "metadata": {},
   "outputs": [
    {
     "data": {
      "text/plain": [
       "['submission (7).csv', 'submission (8).csv']"
      ]
     },
     "execution_count": 7,
     "metadata": {},
     "output_type": "execute_result"
    }
   ],
   "source": [
    "sub_path = \"../input/blending\"\n",
    "all_files = os.listdir(sub_path)\n",
    "all_files"
   ]
  },
  {
   "cell_type": "code",
   "execution_count": 8,
   "metadata": {},
   "outputs": [],
   "source": [
    "outs = [pd.read_csv(os.path.join(sub_path, f), index_col=0) for f in all_files]\n",
    "concat_sub = pd.concat(outs, axis=1)\n",
    "cols = list(map(lambda x: \"jigsaw\" + str(x), range(len(concat_sub.columns))))\n",
    "concat_sub.columns = cols\n",
    "concat_sub.reset_index(inplace=True)\n",
    "concat_sub.head()\n",
    "ncol = concat_sub.shape[1]"
   ]
  },
  {
   "cell_type": "code",
   "execution_count": 9,
   "metadata": {},
   "outputs": [
    {
     "data": {
      "text/html": [
       "<div>\n",
       "<style scoped>\n",
       "    .dataframe tbody tr th:only-of-type {\n",
       "        vertical-align: middle;\n",
       "    }\n",
       "\n",
       "    .dataframe tbody tr th {\n",
       "        vertical-align: top;\n",
       "    }\n",
       "\n",
       "    .dataframe thead th {\n",
       "        text-align: right;\n",
       "    }\n",
       "</style>\n",
       "<table border=\"1\" class=\"dataframe\">\n",
       "  <thead>\n",
       "    <tr style=\"text-align: right;\">\n",
       "      <th></th>\n",
       "      <th>jigsaw0</th>\n",
       "      <th>jigsaw1</th>\n",
       "    </tr>\n",
       "  </thead>\n",
       "  <tbody>\n",
       "    <tr>\n",
       "      <th>jigsaw0</th>\n",
       "      <td>1.000000</td>\n",
       "      <td>0.852971</td>\n",
       "    </tr>\n",
       "    <tr>\n",
       "      <th>jigsaw1</th>\n",
       "      <td>0.852971</td>\n",
       "      <td>1.000000</td>\n",
       "    </tr>\n",
       "  </tbody>\n",
       "</table>\n",
       "</div>"
      ],
      "text/plain": [
       "          jigsaw0   jigsaw1\n",
       "jigsaw0  1.000000  0.852971\n",
       "jigsaw1  0.852971  1.000000"
      ]
     },
     "execution_count": 9,
     "metadata": {},
     "output_type": "execute_result"
    }
   ],
   "source": [
    "# check correlation\n",
    "concat_sub.iloc[:,1:ncol].corr()"
   ]
  },
  {
   "cell_type": "code",
   "execution_count": 10,
   "metadata": {},
   "outputs": [
    {
     "data": {
      "text/plain": [
       "<matplotlib.axes._subplots.AxesSubplot at 0x7f85a10441d0>"
      ]
     },
     "execution_count": 10,
     "metadata": {},
     "output_type": "execute_result"
    },
    {
     "data": {
      "image/png": "[encoded data removed]",
      "text/plain": [
       "<Figure size 792x648 with 2 Axes>"
      ]
     },
     "metadata": {},
     "output_type": "display_data"
    }
   ],
   "source": [
    "corr = concat_sub.iloc[:,1:7].corr()\n",
    "mask = np.zeros_like(corr, dtype=np.bool)\n",
    "mask[np.triu_indices_from(mask)] = True\n",
    "\n",
    "# Set up the matplotlib figure\n",
    "f, ax = plt.subplots(figsize=(11, 9))\n",
    "\n",
    "# Generate a custom diverging colormap\n",
    "cmap = sns.diverging_palette(220, 10, as_cmap=True)\n",
    "\n",
    "# Draw the heatmap with the mask and correct aspect ratio\n",
    "sns.heatmap(corr, mask=mask, cmap=cmap, vmax=.3, center=0,\n",
    "            square=True, linewidths=.5, cbar_kws={\"shrink\": .5})"
   ]
  },
  {
   "cell_type": "code",
   "execution_count": 11,
   "metadata": {},
   "outputs": [],
   "source": [
    "# get the data fields ready for stacking\n",
    "concat_sub['jigsaw_max'] = concat_sub.iloc[:, 1:ncol].max(axis=1)\n",
    "concat_sub['jigsaw_min'] = concat_sub.iloc[:, 1:ncol].min(axis=1)\n",
    "concat_sub['jigsaw_mean'] = concat_sub.iloc[:, 1:ncol].mean(axis=1)\n",
    "concat_sub['jigsaw_median'] = concat_sub.iloc[:, 1:ncol].median(axis=1)"
   ]
  },
  {
   "cell_type": "code",
   "execution_count": 12,
   "metadata": {},
   "outputs": [
    {
     "data": {
      "text/html": [
       "<div>\n",
       "<style scoped>\n",
       "    .dataframe tbody tr th:only-of-type {\n",
       "        vertical-align: middle;\n",
       "    }\n",
       "\n",
       "    .dataframe tbody tr th {\n",
       "        vertical-align: top;\n",
       "    }\n",
       "\n",
       "    .dataframe thead th {\n",
       "        text-align: right;\n",
       "    }\n",
       "</style>\n",
       "<table border=\"1\" class=\"dataframe\">\n",
       "  <thead>\n",
       "    <tr style=\"text-align: right;\">\n",
       "      <th></th>\n",
       "      <th>id</th>\n",
       "      <th>jigsaw0</th>\n",
       "      <th>jigsaw1</th>\n",
       "      <th>jigsaw_max</th>\n",
       "      <th>jigsaw_min</th>\n",
       "      <th>jigsaw_mean</th>\n",
       "      <th>jigsaw_median</th>\n",
       "    </tr>\n",
       "  </thead>\n",
       "  <tbody>\n",
       "    <tr>\n",
       "      <th>count</th>\n",
       "      <td>63812.000000</td>\n",
       "      <td>63812.000000</td>\n",
       "      <td>63812.000000</td>\n",
       "      <td>63812.000000</td>\n",
       "      <td>63812.000000</td>\n",
       "      <td>63812.000000</td>\n",
       "      <td>63812.000000</td>\n",
       "    </tr>\n",
       "    <tr>\n",
       "      <th>mean</th>\n",
       "      <td>31905.500000</td>\n",
       "      <td>0.145984</td>\n",
       "      <td>-3.751629</td>\n",
       "      <td>0.295563</td>\n",
       "      <td>-3.901208</td>\n",
       "      <td>-1.802823</td>\n",
       "      <td>-1.802823</td>\n",
       "    </tr>\n",
       "    <tr>\n",
       "      <th>std</th>\n",
       "      <td>18421.082026</td>\n",
       "      <td>0.218722</td>\n",
       "      <td>3.057071</td>\n",
       "      <td>0.774412</td>\n",
       "      <td>2.753732</td>\n",
       "      <td>1.622821</td>\n",
       "      <td>1.622821</td>\n",
       "    </tr>\n",
       "    <tr>\n",
       "      <th>min</th>\n",
       "      <td>0.000000</td>\n",
       "      <td>0.000659</td>\n",
       "      <td>-7.643625</td>\n",
       "      <td>0.000659</td>\n",
       "      <td>-7.643625</td>\n",
       "      <td>-3.820888</td>\n",
       "      <td>-3.820888</td>\n",
       "    </tr>\n",
       "    <tr>\n",
       "      <th>25%</th>\n",
       "      <td>15952.750000</td>\n",
       "      <td>0.007442</td>\n",
       "      <td>-6.543496</td>\n",
       "      <td>0.007442</td>\n",
       "      <td>-6.543496</td>\n",
       "      <td>-3.266742</td>\n",
       "      <td>-3.266742</td>\n",
       "    </tr>\n",
       "    <tr>\n",
       "      <th>50%</th>\n",
       "      <td>31905.500000</td>\n",
       "      <td>0.033775</td>\n",
       "      <td>-4.488123</td>\n",
       "      <td>0.033794</td>\n",
       "      <td>-4.488123</td>\n",
       "      <td>-2.221528</td>\n",
       "      <td>-2.221528</td>\n",
       "    </tr>\n",
       "    <tr>\n",
       "      <th>75%</th>\n",
       "      <td>47858.250000</td>\n",
       "      <td>0.199730</td>\n",
       "      <td>-1.379302</td>\n",
       "      <td>0.203554</td>\n",
       "      <td>-1.379302</td>\n",
       "      <td>-0.584269</td>\n",
       "      <td>-0.584269</td>\n",
       "    </tr>\n",
       "    <tr>\n",
       "      <th>max</th>\n",
       "      <td>63811.000000</td>\n",
       "      <td>0.996296</td>\n",
       "      <td>5.965222</td>\n",
       "      <td>5.965222</td>\n",
       "      <td>0.996296</td>\n",
       "      <td>3.478134</td>\n",
       "      <td>3.478134</td>\n",
       "    </tr>\n",
       "  </tbody>\n",
       "</table>\n",
       "</div>"
      ],
      "text/plain": [
       "                 id       jigsaw0       jigsaw1    jigsaw_max    jigsaw_min  \\\n",
       "count  63812.000000  63812.000000  63812.000000  63812.000000  63812.000000   \n",
       "mean   31905.500000      0.145984     -3.751629      0.295563     -3.901208   \n",
       "std    18421.082026      0.218722      3.057071      0.774412      2.753732   \n",
       "min        0.000000      0.000659     -7.643625      0.000659     -7.643625   \n",
       "25%    15952.750000      0.007442     -6.543496      0.007442     -6.543496   \n",
       "50%    31905.500000      0.033775     -4.488123      0.033794     -4.488123   \n",
       "75%    47858.250000      0.199730     -1.379302      0.203554     -1.379302   \n",
       "max    63811.000000      0.996296      5.965222      5.965222      0.996296   \n",
       "\n",
       "        jigsaw_mean  jigsaw_median  \n",
       "count  63812.000000   63812.000000  \n",
       "mean      -1.802823      -1.802823  \n",
       "std        1.622821       1.622821  \n",
       "min       -3.820888      -3.820888  \n",
       "25%       -3.266742      -3.266742  \n",
       "50%       -2.221528      -2.221528  \n",
       "75%       -0.584269      -0.584269  \n",
       "max        3.478134       3.478134  "
      ]
     },
     "execution_count": 12,
     "metadata": {},
     "output_type": "execute_result"
    }
   ],
   "source": [
    "concat_sub.describe()"
   ]
  },
  {
   "cell_type": "code",
   "execution_count": 13,
   "metadata": {},
   "outputs": [],
   "source": [
    "cutoff_lo = 0.7\n",
    "cutoff_hi = 0.3"
   ]
  },
  {
   "cell_type": "code",
   "execution_count": 14,
   "metadata": {},
   "outputs": [],
   "source": [
    "concat_sub['toxic'] = concat_sub['jigsaw_mean']\n",
    "concat_sub[['toxic']].to_csv('submission2.csv', \n",
    "                                        index=False, float_format='%.6f')"
   ]
  },
  {
   "cell_type": "code",
   "execution_count": 15,
   "metadata": {},
   "outputs": [],
   "source": [
    "concat_sub['toxic'] = concat_sub['jigsaw_median']\n",
    "concat_sub[['toxic']].to_csv('submission1.csv', \n",
    "                                        index=False, float_format='%.6f')"
   ]
  },
  {
   "cell_type": "code",
   "execution_count": 16,
   "metadata": {},
   "outputs": [],
   "source": [
    "concat_sub['toxic'] = np.where(np.all(concat_sub.iloc[:,1:ncol] > cutoff_lo, axis=1), 1, \n",
    "                                    np.where(np.all(concat_sub.iloc[:,1:ncol] < cutoff_hi, axis=1),\n",
    "                                             0, concat_sub['jigsaw_median']))\n",
    "concat_sub[['toxic']].to_csv('submission3.csv', \n",
    "                                        index=False, float_format='%.6f')"
   ]
  },
  {
   "cell_type": "code",
   "execution_count": 17,
   "metadata": {},
   "outputs": [],
   "source": [
    "concat_sub['toxic'] = np.where(np.all(concat_sub.iloc[:,1:ncol] > cutoff_lo, axis=1), \n",
    "                                    concat_sub['jigsaw_max'], \n",
    "                                    np.where(np.all(concat_sub.iloc[:,1:ncol] < cutoff_hi, axis=1),\n",
    "                                             concat_sub['jigsaw_min'], \n",
    "                                             concat_sub['jigsaw_mean']))\n",
    "concat_sub[['toxic']].to_csv('submission4.csv', \n",
    "                                        index=False, float_format='%.6f')"
   ]
  },
  {
   "cell_type": "code",
   "execution_count": 18,
   "metadata": {},
   "outputs": [],
   "source": [
    "concat_sub['toxic'] = np.where(np.all(concat_sub.iloc[:,1:ncol] > cutoff_lo, axis=1), \n",
    "                                    concat_sub['jigsaw_max'], \n",
    "                                    np.where(np.all(concat_sub.iloc[:,1:ncol] < cutoff_hi, axis=1),\n",
    "                                             concat_sub['jigsaw_min'], \n",
    "                                             concat_sub['jigsaw_median']))\n",
    "concat_sub[['toxic']].to_csv('submission5.csv', \n",
    "                                        index=False, float_format='%.6f')"
   ]
  }
 ],
 "metadata": {
  "kernelspec": {
   "display_name": "Python 3",
   "language": "python",
   "name": "python3"
  },
  "language_info": {
   "codemirror_mode": {
    "name": "ipython",
    "version": 3
   },
   "file_extension": ".py",
   "mimetype": "text/x-python",
   "name": "python",
   "nbconvert_exporter": "python",
   "pygments_lexer": "ipython3",
   "version": "3.6.6"
  }
 },
 "nbformat": 4,
 "nbformat_minor": 4
}
