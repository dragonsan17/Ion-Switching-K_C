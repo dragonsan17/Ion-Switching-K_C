{
 "cells": [
  {
   "cell_type": "code",
   "execution_count": 1,
   "metadata": {},
   "outputs": [],
   "source": [
    "import numpy as np\n",
    "import matplotlib.pyplot as plt\n",
    "data_path = 'C:/Santosh/AI/K-Comp/Ion/Data/wdwk/'\n",
    "train_data_file = data_path + 'train.csv'\n",
    "test_data_file = data_path + 'test.csv'\n",
    "\n",
    "def get_data(filename, train=True):\n",
    "  \n",
    "    if(train):\n",
    "        with open(filename) as training_file:\n",
    "            split_size = 10\n",
    "            data = np.loadtxt(training_file, delimiter=',', skiprows=1)\n",
    "            signal = data[:,1]\n",
    "            channels = data[:,2]\n",
    "            signal = np.array_split(signal, split_size)\n",
    "            channels = np.array_split(channels, split_size)\n",
    "            data = None\n",
    "        return np.array(signal), np.array(channels)\n",
    "    else:\n",
    "       with open(filename) as training_file:\n",
    "            split_size = 4\n",
    "            data = np.loadtxt(training_file, delimiter=',', skiprows=1)\n",
    "            signal = data[:,1]\n",
    "            signal = np.array_split(signal, split_size)\n",
    "            data = None\n",
    "       return np.array(signal)\n",
    "\n",
    "train_signal , train_channels = get_data(train_data_file)\n",
    "test_signal = get_data(test_data_file, train=False)\n",
    "\n"
   ]
  },
  {
   "cell_type": "code",
   "execution_count": 2,
   "metadata": {},
   "outputs": [
    {
     "data": {
      "text/plain": [
       "[<matplotlib.lines.Line2D at 0x171edf0aba8>]"
      ]
     },
     "execution_count": 2,
     "metadata": {},
     "output_type": "execute_result"
    },
    {
     "data": {
      "image/png": "[encoded data removed]",
      "text/plain": [
       "<Figure size 432x288 with 1 Axes>"
      ]
     },
     "metadata": {
      "needs_background": "light"
     },
     "output_type": "display_data"
    }
   ],
   "source": [
    "\n",
    "plt.plot(np.arange(5000000),train_signal.flatten(),'r')\n",
    "\n",
    "plt.plot(np.arange(2000000),test_signal.flatten(),'r')"
   ]
  },
  {
   "cell_type": "code",
   "execution_count": null,
   "metadata": {},
   "outputs": [],
   "source": []
  }
 ],
 "metadata": {
  "kernelspec": {
   "display_name": "Python 3",
   "language": "python",
   "name": "python3"
  },
  "language_info": {
   "codemirror_mode": {
    "name": "ipython",
    "version": 3
   },
   "file_extension": ".py",
   "mimetype": "text/x-python",
   "name": "python",
   "nbconvert_exporter": "python",
   "pygments_lexer": "ipython3",
   "version": "3.6.10"
  }
 },
 "nbformat": 4,
 "nbformat_minor": 4
}
